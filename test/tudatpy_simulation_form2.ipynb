{
 "cells": [
  {
   "cell_type": "code",
   "execution_count": 57,
   "metadata": {},
   "outputs": [],
   "source": [
    "# Load standard modules\n",
    "import csv\n",
    "import json\n",
    "import numpy as np\n",
    "from matplotlib import pyplot as plt\n",
    "\n",
    "# Load tudatpy modules\n",
    "from tudatpy.interface import spice\n",
    "from tudatpy import numerical_simulation\n",
    "from tudatpy.numerical_simulation import environment\n",
    "from tudatpy.numerical_simulation import environment_setup, propagation_setup, estimation_setup\n",
    "from tudatpy.astro import element_conversion\n",
    "from tudatpy import constants\n",
    "from tudatpy.util import result2array\n",
    "from tudatpy.astro.time_conversion import DateTime"
   ]
  },
  {
   "cell_type": "code",
   "execution_count": 58,
   "metadata": {},
   "outputs": [],
   "source": [
    "# Load spice kernels\n",
    "spice.load_standard_kernels()\n",
    "\n",
    "# Set simulation start and end epochs\n",
    "simulation_start_epoch = DateTime(2000, 1, 1).epoch()\n",
    "simulation_end_epoch   = DateTime(2000, 1, 1, 18).epoch()"
   ]
  },
  {
   "cell_type": "code",
   "execution_count": 59,
   "metadata": {},
   "outputs": [],
   "source": [
    "# Create default body settings for \"Earth\"\n",
    "bodies_to_create = [\"Earth\"]\n",
    "\n",
    "# Create default body settings for bodies_to_create, with \"Earth\"/\"J2000\" as the global frame origin and orientation\n",
    "global_frame_origin = \"Earth\"\n",
    "global_frame_orientation = \"J2000\"\n",
    "body_settings = environment_setup.get_default_body_settings(\n",
    "    bodies_to_create, global_frame_origin, global_frame_orientation)\n",
    "\n",
    "# Create the system of bodies\n",
    "bodies = environment_setup.create_system_of_bodies(body_settings)"
   ]
  },
  {
   "cell_type": "code",
   "execution_count": 60,
   "metadata": {},
   "outputs": [],
   "source": [
    "# Create vehicle objects.\n",
    "bodies.create_empty_body(\"Chief\")\n",
    "bodies.create_empty_body(\"Deputy1\")\n",
    "bodies.create_empty_body(\"Deputy2\")\n",
    "bodies.create_empty_body(\"Deputy3\")\n",
    "\n",
    "# Set mass of satellites\n",
    "bodies.get(\"Chief\").mass = 1.0\n",
    "bodies.get(\"Deputy1\").mass = 1.0\n",
    "bodies.get(\"Deputy2\").mass = 1.0\n",
    "bodies.get(\"Deputy3\").mass = 1.0\n",
    "\n",
    "# Create aerodynamic coefficient interface settings\n",
    "reference_area = 1e-4\n",
    "drag_coefficient = 2.22\n",
    "aero_coefficient_settings = environment_setup.aerodynamic_coefficients.constant(\n",
    "    reference_area, [drag_coefficient, 0.0, 0.0]\n",
    ")\n",
    "\n",
    "# Add the aerodynamic interface to the environment\n",
    "environment_setup.add_aerodynamic_coefficient_interface(\n",
    "            bodies, \"Chief\", aero_coefficient_settings)\n",
    "environment_setup.add_aerodynamic_coefficient_interface(\n",
    "            bodies, \"Deputy1\", aero_coefficient_settings)\n",
    "environment_setup.add_aerodynamic_coefficient_interface(\n",
    "            bodies, \"Deputy2\", aero_coefficient_settings)\n",
    "environment_setup.add_aerodynamic_coefficient_interface(\n",
    "            bodies, \"Deputy3\", aero_coefficient_settings)"
   ]
  },
  {
   "cell_type": "code",
   "execution_count": 61,
   "metadata": {},
   "outputs": [],
   "source": [
    "# Define bodies that are propagated\n",
    "bodies_to_propagate = [\"Chief\", \"Deputy1\", \"Deputy2\", \"Deputy3\"]\n",
    "\n",
    "# Define central bodies of propagation\n",
    "central_bodies = [\"Earth\", \"Earth\", \"Earth\", \"Earth\"]"
   ]
  },
  {
   "cell_type": "code",
   "execution_count": 62,
   "metadata": {},
   "outputs": [],
   "source": [
    "# Define unique (Earth) accelerations acting on each vehicle\n",
    "accelerations_settings = dict(\n",
    "    Earth=[\n",
    "        propagation_setup.acceleration.spherical_harmonic_gravity(2, 0),\n",
    "        propagation_setup.acceleration.aerodynamic()\n",
    "    ])\n",
    "\n",
    "\n",
    "# Create global accelerations settings dictionary\n",
    "acceleration_settings = {\"Chief\": accelerations_settings,\n",
    "                         \"Deputy1\": accelerations_settings,\n",
    "                         \"Deputy2\": accelerations_settings,\n",
    "                         \"Deputy3\": accelerations_settings}\n",
    "                         \n",
    "\n",
    "# Create acceleration models\n",
    "acceleration_models = propagation_setup.create_acceleration_models(\n",
    "    bodies,\n",
    "    acceleration_settings,\n",
    "    bodies_to_propagate,\n",
    "    central_bodies)"
   ]
  },
  {
   "cell_type": "code",
   "execution_count": 63,
   "metadata": {},
   "outputs": [
    {
     "data": {
      "text/plain": [
       "array([-1.29558451e+06, -9.29374091e+05,  6.79341168e+06, -7.42651160e+03,\n",
       "        1.90197771e+02, -1.39029639e+03, -1.71905321e+05,  6.85722289e+06,\n",
       "       -1.28164907e+06,  1.00700996e+03, -1.39992882e+03, -7.35847629e+03,\n",
       "       -4.25196559e+06,  1.61996360e+06, -5.29100818e+06, -4.67816089e+03,\n",
       "        3.46354522e+03,  4.82020089e+03, -2.21490461e+06, -3.96701870e+06,\n",
       "       -5.29606652e+06,  1.36145516e+03,  5.66586154e+03, -4.81333761e+03])"
      ]
     },
     "execution_count": 63,
     "metadata": {},
     "output_type": "execute_result"
    }
   ],
   "source": [
    "# Retrieve Earth's gravitational parameter\n",
    "earth_gravitational_parameter = bodies.get(\"Earth\").gravitational_parameter\n",
    "\n",
    "# Convert keplerian to cartesian elements\n",
    "initial_state_chief = element_conversion.keplerian_to_cartesian_elementwise(\n",
    "    gravitational_parameter=earth_gravitational_parameter,\n",
    "    semi_major_axis=6978e3,\n",
    "    eccentricity=2.6e-6,\n",
    "    inclination=np.deg2rad(97.79),\n",
    "    argument_of_periapsis=np.deg2rad(303.34),\n",
    "    longitude_of_ascending_node=np.deg2rad(1.5e-5),\n",
    "    true_anomaly=np.deg2rad(157.36),\n",
    ")\n",
    "\n",
    "initial_state_deputy1 = element_conversion.keplerian_to_cartesian_elementwise(\n",
    "    gravitational_parameter=earth_gravitational_parameter,\n",
    "    semi_major_axis=6978e3,\n",
    "    eccentricity=6.48e-3,\n",
    "    inclination=np.deg2rad(97.26),\n",
    "    argument_of_periapsis=np.deg2rad(281.15),\n",
    "    longitude_of_ascending_node=np.deg2rad(272.80),\n",
    "    true_anomaly=np.deg2rad(269.52),\n",
    ")\n",
    "\n",
    "initial_state_deputy2 = element_conversion.keplerian_to_cartesian_elementwise(\n",
    "    gravitational_parameter=earth_gravitational_parameter,\n",
    "    semi_major_axis=6978e3,\n",
    "    eccentricity=6.6e-5,\n",
    "    inclination=np.deg2rad(97.79),\n",
    "    argument_of_periapsis=np.deg2rad(104.07),\n",
    "    longitude_of_ascending_node=np.deg2rad(149.99),\n",
    "    true_anomaly=np.deg2rad(206.00),\n",
    ")\n",
    "\n",
    "initial_state_deputy3 = element_conversion.keplerian_to_cartesian_elementwise(\n",
    "    gravitational_parameter=earth_gravitational_parameter,\n",
    "    semi_major_axis=6978e3,\n",
    "    eccentricity=1.3e-5,\n",
    "    inclination=np.deg2rad(97.79),\n",
    "    argument_of_periapsis=np.deg2rad(257.43),\n",
    "    longitude_of_ascending_node=np.deg2rad(70.00),\n",
    "    true_anomaly=np.deg2rad(332.57),\n",
    ")\n",
    "\n",
    "# Create initial state\n",
    "initial_states = np.concatenate((initial_state_chief, initial_state_deputy1, initial_state_deputy2, initial_state_deputy3))\n",
    "initial_states"
   ]
  },
  {
   "cell_type": "code",
   "execution_count": 64,
   "metadata": {},
   "outputs": [],
   "source": [
    "# Create termination settings\n",
    "termination_condition = propagation_setup.propagator.time_termination(simulation_end_epoch)\n",
    "\n",
    "# Create numerical integrator settings\n",
    "fixed_step_size = 60.0\n",
    "integrator_settings = propagation_setup.integrator.runge_kutta_4(fixed_step_size)\n",
    "\n",
    "# Create propagation settings\n",
    "propagator_settings = propagation_setup.propagator.translational(\n",
    "    central_bodies,\n",
    "    acceleration_models,\n",
    "    bodies_to_propagate,\n",
    "    initial_states,\n",
    "    simulation_start_epoch,\n",
    "    integrator_settings,\n",
    "    termination_condition\n",
    ")"
   ]
  },
  {
   "cell_type": "code",
   "execution_count": 65,
   "metadata": {},
   "outputs": [],
   "source": [
    "# Setup parameters settings to propagate the state transition matrix\n",
    "parameter_settings = estimation_setup.parameter.initial_states(propagator_settings, bodies)\n",
    "\n",
    "# Create the parameters that will be estimated\n",
    "parameters_to_estimate = estimation_setup.create_parameter_set(parameter_settings, bodies)"
   ]
  },
  {
   "cell_type": "code",
   "execution_count": 66,
   "metadata": {},
   "outputs": [],
   "source": [
    "# Create the variational equation solver and propagate the dynamics\n",
    "variational_equations_solver = numerical_simulation.create_variational_equations_solver(\n",
    "    bodies, propagator_settings, parameters_to_estimate, simulate_dynamics_on_creation=True\n",
    ")\n",
    "\n",
    "# Extract the resulting state history, state transition matrix history, and sensitivity matrix history\n",
    "states = variational_equations_solver.state_history\n",
    "state_transition_matrices = variational_equations_solver.state_transition_matrix_history"
   ]
  },
  {
   "cell_type": "code",
   "execution_count": 67,
   "metadata": {},
   "outputs": [],
   "source": [
    "# Save the state vector history to a csv file\n",
    "with open('../data/data_tudatpy/data_tudatpy_x_true.csv', 'w', newline='') as csvfile:\n",
    "    fieldnames = ['x_chief', 'y_chief', 'z_chief', 'vx_chief', 'vy_chief', 'vz_chief', 'x_deputy1', 'y_deputy1', 'z_deputy1', 'vx_deputy1', 'vy_deputy1', 'vz_deputy1', 'x_deputy2', 'y_deputy2', 'z_deputy2', 'vx_deputy2', 'vy_deputy2', 'vz_deputy2', 'x_deputy3', 'y_deputy3', 'z_deputy3', 'vx_deputy3', 'vy_deputy3', 'vz_deputy3']\n",
    "    writer = csv.DictWriter(csvfile, fieldnames=fieldnames)\n",
    "    writer.writeheader()\n",
    "    \n",
    "    for values in states.values():\n",
    "        writer.writerow({\n",
    "            'x_chief': values[0] * 1e-3, 'y_chief': values[1] * 1e-3, 'z_chief': values[2] * 1e-3, 'vx_chief': values[3] * 1e-3, 'vy_chief': values[4] * 1e-3, 'vz_chief': values[5] * 1e-3,\n",
    "            'x_deputy1': values[6] * 1e-3, 'y_deputy1': values[7] * 1e-3, 'z_deputy1': values[8] * 1e-3, 'vx_deputy1': values[9] * 1e-3, 'vy_deputy1': values[10] * 1e-3, 'vz_deputy1': values[11] * 1e-3,\n",
    "            'x_deputy2': values[12] * 1e-3, 'y_deputy2': values[13] * 1e-3, 'z_deputy2': values[14] * 1e-3, 'vx_deputy2': values[15] * 1e-3, 'vy_deputy2': values[16] * 1e-3, 'vz_deputy2': values[17] * 1e-3,\n",
    "            'x_deputy3': values[18] * 1e-3, 'y_deputy3': values[19] * 1e-3, 'z_deputy3': values[20] * 1e-3, 'vx_deputy3': values[21] * 1e-3, 'vy_deputy3': values[22] * 1e-3, 'vz_deputy3': values[23] * 1e-3\n",
    "        })"
   ]
  },
  {
   "cell_type": "code",
   "execution_count": 68,
   "metadata": {},
   "outputs": [],
   "source": [
    "def matrix_to_json(matrix):\n",
    "    return json.dumps(matrix.tolist())\n",
    "\n",
    "# Save the state transition matrix history to a csv file\n",
    "with open('../data/data_tudatpy/data_tudatpy_STM.csv', 'w', newline='') as csvfile:\n",
    "    fieldnames = ['STM_chief', 'STM_deputy1', 'STM_deputy2', 'STM_deputy3']\n",
    "    writer = csv.DictWriter(csvfile, fieldnames=fieldnames)\n",
    "    writer.writeheader()\n",
    "    \n",
    "    for values in state_transition_matrices.values():\n",
    "        writer.writerow({\n",
    "            'STM_chief': matrix_to_json(values[0:6, 0:6]),\n",
    "            'STM_deputy1': matrix_to_json(values[6:12, 6:12]),\n",
    "            'STM_deputy2': matrix_to_json(values[12:18, 12:18]),\n",
    "            'STM_deputy3': matrix_to_json(values[18:24, 18:24])\n",
    "        })"
   ]
  }
 ],
 "metadata": {
  "kernelspec": {
   "display_name": "SpaceSim-Toolkit",
   "language": "python",
   "name": "python3"
  },
  "language_info": {
   "name": "python",
   "version": "3.1.undefined"
  }
 },
 "nbformat": 4,
 "nbformat_minor": 2
}
