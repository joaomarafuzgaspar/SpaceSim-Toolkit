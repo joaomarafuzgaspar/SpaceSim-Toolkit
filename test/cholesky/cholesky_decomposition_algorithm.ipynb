{
 "cells": [
  {
   "cell_type": "code",
   "execution_count": 5,
   "metadata": {
    "editable": true,
    "slideshow": {
     "slide_type": ""
    },
    "tags": []
   },
   "outputs": [],
   "source": [
    "import os\n",
    "import sys\n",
    "import pickle\n",
    "import numpy as np\n",
    "import pandas as pd\n",
    "import matplotlib.pyplot as plt\n",
    "\n",
    "from tqdm import tqdm\n",
    "from scipy.linalg import sqrtm\n",
    "from scipy.linalg import block_diag\n",
    "\n",
    "module_path = os.path.abspath(os.path.join('../../src'))\n",
    "if module_path not in sys.path:\n",
    "    sys.path.append(module_path)\n",
    "    \n",
    "module_path = os.path.abspath(os.path.join('../../data'))\n",
    "if module_path not in sys.path:\n",
    "    sys.path.append(module_path)\n",
    "    \n",
    "from dynamics import Dynamics\n",
    "from utils import get_form_initial_conditions\n",
    "from centralized_newton import CentralizedNewton"
   ]
  },
  {
   "cell_type": "code",
   "execution_count": 6,
   "metadata": {},
   "outputs": [],
   "source": [
    "# Position estimation error\n",
    "def position_estimation_error(X_est, X_true):\n",
    "    return np.linalg.norm(X_est[:3, :, :] - X_true[:3, :, :], axis=0).flatten(), np.linalg.norm(X_est[6:9, :, :] - X_true[6:9, :, :], axis=0).flatten(), np.linalg.norm(X_est[12:15, :, :] - X_true[12:15, :, :], axis=0).flatten(), np.linalg.norm(X_est[18:21, :, :] - X_true[18:21, :, :], axis=0).flatten()"
   ]
  },
  {
   "cell_type": "code",
   "execution_count": 7,
   "metadata": {},
   "outputs": [],
   "source": [
    "# Simulation parameters\n",
    "dt = 60.0  # Time step [s]\n",
    "K = 395  # Duration [min]\n",
    "M = 1  # Number of Monte-Carlo simulations\n",
    "N = 4  # Number of satellites\n",
    "formation = 1\n",
    "n_x = 6 \n",
    "n_p = 3  \n",
    "n = N * n_x\n",
    "o = 3 + 3 + 2 + 1 \n",
    "H = 15 # Window size [min]\n",
    "invalid_rmse = 1e20 # [m]\n",
    "grad_norm_order_mag = True\n",
    "grad_norm_tol = 1e-6\n",
    "max_iterations = 20\n",
    "dyn = Dynamics()"
   ]
  },
  {
   "cell_type": "code",
   "execution_count": 29,
   "metadata": {},
   "outputs": [],
   "source": [
    "# Observation noise\n",
    "r_chief_pos = 1e-1  # [m]\n",
    "R_chief = np.diag(np.concatenate([r_chief_pos * np.ones(3)])) ** 2\n",
    "r_deputy_pos = 1e0  # [m]\n",
    "R_deputies = np.diag(np.concatenate([r_deputy_pos * np.ones(6)])) ** 2\n",
    "R = block_diag(R_chief, R_deputies)\n",
    "\n",
    "# Initial deviation noise\n",
    "p_pos_initial = 1e-2  # [m]\n",
    "p_vel_initial = 1e-2  # [m / s]\n",
    "P_0 = np.diag(np.concatenate([p_pos_initial * np.ones(3), p_vel_initial * np.ones(3)])) ** 2\n",
    "P_0 = block_diag(P_0, P_0, P_0, P_0)"
   ]
  },
  {
   "cell_type": "code",
   "execution_count": 30,
   "metadata": {},
   "outputs": [],
   "source": [
    "# Seed for reproducib_ility\n",
    "# np.random.seed(42)\n",
    "\n",
    "# Initial conditions for the state vector and true state vectors\n",
    "X_initial = get_form_initial_conditions(formation)\n",
    "with open(f\"../../data/tudatpy_form{formation}_ts_{int(dt)}.pkl\", \"rb\") as file:\n",
    "    X_true = pickle.load(file)[:, :, :K]\n",
    "\n",
    "# Algorithm class to use\n",
    "alg = CentralizedNewton(H, K, o, R, grad_norm_order_mag, grad_norm_tol, max_iterations)\n",
    "\n",
    "# Observations\n",
    "Y = np.zeros((o, 1, K))\n",
    "for k in range(K):\n",
    "    Y[:, :, k] = alg.h(X_true[:, :, k]) + np.random.multivariate_normal(np.zeros(o), R).reshape((o, 1))"
   ]
  },
  {
   "cell_type": "code",
   "execution_count": 47,
   "metadata": {},
   "outputs": [],
   "source": [
    "k = 14\n",
    "x_init = X_initial + np.random.multivariate_normal(np.zeros(n), P_0).reshape((n, 1))\n",
    "HJ_x = alg.HJ(k, dt, Y, x_init)\n",
    "T_matrix_x = np.zeros_like(HJ_x)\n",
    "R_matrix_x = np.zeros_like(HJ_x)\n",
    "for i in range(N):\n",
    "    for j in range(N):\n",
    "        block = HJ_x[i * n_x : (i + 1) * n_x, j * n_x : (j + 1) * n_x]\n",
    "        if i == j or i == 0 or j == 0:\n",
    "            T_matrix_x[i * n_x : (i + 1) * n_x, j * n_x : (j + 1) * n_x] = block\n",
    "        else:\n",
    "            R_matrix_x[i * n_x : (i + 1) * n_x, j * n_x : (j + 1) * n_x] = -block\n",
    "assert min(np.linalg.eigvalsh(T_matrix_x)) > 0 and np.allclose(T_matrix_x, T_matrix_x.T)"
   ]
  },
  {
   "cell_type": "code",
   "execution_count": 87,
   "metadata": {},
   "outputs": [],
   "source": [
    "import numpy as np\n",
    "from scipy.linalg import sqrtm\n",
    "\n",
    "def construct_L_i(i, A_i, B_i):\n",
    "    n_blocks = N\n",
    "    block_size = n_x\n",
    "    total_size = n_blocks * block_size\n",
    "    L_i = np.eye(total_size)\n",
    "\n",
    "    # Define index ranges\n",
    "    i_start = i * block_size\n",
    "    i_end = (i + 1) * block_size\n",
    "\n",
    "    # Compute L_i\n",
    "    sqrt_A_i = sqrtm(A_i)\n",
    "    L_i[i_start:i_end, i_start:i_end] = sqrt_A_i\n",
    "    L_i[i_end:, i_start:i_end] = B_i @ np.linalg.inv(sqrt_A_i)\n",
    "\n",
    "    return L_i\n",
    "\n",
    "def cholesky_custom(A):\n",
    "    n_blocks = N\n",
    "    block_size = n_x\n",
    "    total_size = n_blocks * block_size\n",
    "    A_current = A.copy()\n",
    "    \n",
    "    L_list = []\n",
    "    for i in range(n_blocks):\n",
    "        i_start = i * block_size\n",
    "        i_end = (i + 1) * block_size\n",
    "\n",
    "        A_i = A_current[i_start:i_end, i_start:i_end]\n",
    "        B_i = A_current[i_end:, i_start:i_end] \n",
    "        C_i = A_current[i_end:, i_end:] \n",
    "\n",
    "        L_i = construct_L_i(i, A_i, B_i)\n",
    "        L_list.append(L_i)\n",
    "\n",
    "        # Refresh A (1)\n",
    "        # L_i_inv = np.linalg.inv(L_i)\n",
    "        # A_current = L_i_inv @ A_current @ L_i_inv.T\n",
    "        \n",
    "        # Refresh A (2)\n",
    "        A_current = np.eye(total_size)\n",
    "        A_current[i_end:, i_end:] = C_i - B_i @ np.linalg.inv(A_i) @ B_i.T\n",
    "\n",
    "    # Final L = L_1 L_2 ... L_n\n",
    "    L = L_list[0]\n",
    "    for L_i in L_list[1:]:\n",
    "        L = L @ L_i\n",
    "\n",
    "    return L"
   ]
  },
  {
   "cell_type": "code",
   "execution_count": 88,
   "metadata": {},
   "outputs": [
    {
     "data": {
      "text/plain": [
       "True"
      ]
     },
     "execution_count": 88,
     "metadata": {},
     "output_type": "execute_result"
    }
   ],
   "source": [
    "# L = np.linalg.cholesky(T_matrix_x)\n",
    "L_custom = cholesky_custom(T_matrix_x)\n",
    "np.allclose(L_custom @ L_custom.T, T_matrix_x)"
   ]
  },
  {
   "cell_type": "code",
   "execution_count": null,
   "metadata": {},
   "outputs": [],
   "source": [
    "def construct_Q_i(i, A_i, B_i):\n",
    "    n_blocks = N\n",
    "    block_size = n_x\n",
    "    total_size = n_blocks * block_size\n",
    "    L_i = np.eye(total_size)\n",
    "\n",
    "    # Index ranges\n",
    "    i_start = i * block_size\n",
    "    i_end = (i + 1) * block_size\n",
    "\n",
    "    # Set sqrt_aii at (i, i)\n",
    "    L_i[i_start:i_end, i_start:i_end] = sqrtm(A_i)\n",
    "\n",
    "    # Set bi @ inv_sqrt_aii at (j, i) blocks\n",
    "    bi_blocks = B_i.shape[0] // block_size\n",
    "    for j in range(bi_blocks):\n",
    "        j_start = (i + 1 + j) * block_size\n",
    "        j_end = j_start + block_size\n",
    "        L_i[j_start:j_end, i_start:i_end] = B_i[j*block_size:(j+1)*block_size] @ np.linalg.inv(sqrtm(A_i))\n",
    "\n",
    "    return L_i\n",
    "\n",
    "def cholesky_custom(A):\n",
    "    n_blocks = N\n",
    "    block_size = n_x\n",
    "    A_current = A.copy()\n",
    "    \n",
    "    L_list = []\n",
    "    for i in range(n_blocks):\n",
    "        i_start = i * block_size\n",
    "        i_end = (i + 1) * block_size\n",
    "\n",
    "        A_i = A_current[i_start:i_end, i_start:i_end]\n",
    "        B_i = A_current[i_end:, i_start:i_end]\n",
    "        C_i = A_current[i_end:, i_end:]\n",
    "\n",
    "        Q_i = construct_Q_i(i, A_i, B_i)\n",
    "        L_list.append(Q_i)\n",
    "\n",
    "        # A_current = np.linalg.inv(L_i) @ A_current @ np.linalg.inv(L_i).T\n",
    "        A_current[i_start:i_end, i_start:i_end] = np.eye(block_size)\n",
    "        A_current[i_start:i_end, i_end:] = 0\n",
    "        A_current[i_end:, i_start:i_end] = 0\n",
    "        A_current[i_end:, i_end:] = C_i - B_i @ np.linalg.inv(A_i) @ B_i.T\n",
    "\n",
    "    # Multiply all L_i to get final L\n",
    "    L = L_list[0]\n",
    "    for L_i in L_list[1:]:\n",
    "        L = L @ L_i\n",
    "\n",
    "    return L"
   ]
  }
 ],
 "metadata": {
  "kernelspec": {
   "display_name": "spacesim-toolkit",
   "language": "python",
   "name": "python3"
  },
  "language_info": {
   "codemirror_mode": {
    "name": "ipython",
    "version": 3
   },
   "file_extension": ".py",
   "mimetype": "text/x-python",
   "name": "python",
   "nbconvert_exporter": "python",
   "pygments_lexer": "ipython3",
   "version": "3.11.11"
  }
 },
 "nbformat": 4,
 "nbformat_minor": 4
}
